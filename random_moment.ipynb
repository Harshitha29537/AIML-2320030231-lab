{
  "nbformat": 4,
  "nbformat_minor": 0,
  "metadata": {
    "colab": {
      "provenance": []
    },
    "kernelspec": {
      "name": "python3",
      "display_name": "Python 3"
    },
    "language_info": {
      "name": "python"
    }
  },
  "cells": [
    {
      "cell_type": "code",
      "execution_count": null,
      "metadata": {
        "id": "dRKNOiLMp0T3"
      },
      "outputs": [],
      "source": [
        "import random\n",
        "from datetime import datetime, timedelta\n",
        "\n",
        "def random_moment(start_date, end_date):\n",
        "    \"\"\"\n",
        "    Generate a random moment between start_date and end_date.\n",
        "\n",
        "    Parameters:\n",
        "    start_date (datetime): The starting date and time.\n",
        "    end_date (datetime): The ending date and time.\n",
        "\n",
        "    Returns:\n",
        "    datetime: A random moment between the two dates.\n",
        "    \"\"\"\n",
        "    # Calculate the time difference between the two dates\n",
        "    time_difference = end_date - start_date\n",
        "    # Generate a random number of seconds to add to start_date\n",
        "    random_seconds = random.randint(0, int(time_difference.total_seconds()))\n",
        "    # Return the new random date\n",
        "    return start_date + timedelta(seconds=random_seconds)\n",
        "\n",
        "# Example usage\n",
        "start = datetime(2020, 1, 1)\n",
        "end = datetime(2024, 1, 1)\n",
        "random_time = random_moment(start, end)\n",
        "\n",
        "print(\"Random Moment:\", random_time)\n"
      ]
    }
  ]
}